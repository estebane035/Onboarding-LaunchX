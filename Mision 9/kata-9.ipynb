{
 "cells": [
  {
   "cell_type": "markdown",
   "metadata": {},
   "source": [
    "## Ejercicio 1: Trabajar con argumentos en funciones"
   ]
  },
  {
   "cell_type": "code",
   "execution_count": 1,
   "metadata": {},
   "outputs": [],
   "source": [
    "# Función para leer 3 tanques de combustible y muestre el promedio\n",
    "\n",
    "def informe_combustible(lectura_1, lectura_2, lectura_3):\n",
    "    avg = (lectura_1 + lectura_2 + lectura_3) / 3\n",
    "    return f'El promedio de combustible es: {avg}'"
   ]
  },
  {
   "cell_type": "code",
   "execution_count": 7,
   "metadata": {},
   "outputs": [
    {
     "name": "stdout",
     "output_type": "stream",
     "text": [
      "El promedio de combustible es: 2.0\n"
     ]
    }
   ],
   "source": [
    "# Llamamos a la función que genera el reporte print(funcion(tanque1, tanque2, tanque3))\n",
    "print(informe_combustible(1, 2, 3))"
   ]
  },
  {
   "cell_type": "code",
   "execution_count": 5,
   "metadata": {},
   "outputs": [],
   "source": [
    "# Función promedio \n",
    "\n",
    "def promedio (values):\n",
    "    return sum(values) / len(values)"
   ]
  },
  {
   "cell_type": "code",
   "execution_count": 6,
   "metadata": {},
   "outputs": [],
   "source": [
    "# Actualiza la función\n",
    "\n",
    "def informe_combustible(lectura_1, lectura_2, lectura_3):\n",
    "    avg = promedio([lectura_1, lectura_2, lectura_3])\n",
    "    return f'El promedio de combustible es: {avg}'"
   ]
  },
  {
   "cell_type": "markdown",
   "metadata": {},
   "source": [
    "## Ejercicio 2: Trabajo con argumentos de palabra clave"
   ]
  },
  {
   "cell_type": "code",
   "execution_count": 11,
   "metadata": {},
   "outputs": [
    {
     "name": "stdout",
     "output_type": "stream",
     "text": [
      " Destino: Moon \n",
      " tiempo de viaje: 65 minutos \n",
      " Total de combustible: 500000\n"
     ]
    }
   ],
   "source": [
    "# Función con un informe preciso de la misión. Considera hora de prelanzamiento, tiempo de vuelo, destino, tanque externo y tanque interno\n",
    "\n",
    "def reporte_mision(hora_prelanzamiento, tiempo_de_vuelo, destino, tanque_externo, tanque_interno):\n",
    "    return f' Destino: {destino} \\n tiempo de viaje: {hora_prelanzamiento + tiempo_de_vuelo} minutos \\n Total de combustible: {tanque_externo + tanque_interno}'\n",
    "\n",
    "print(reporte_mision(14, 51, \"Moon\", 200000, 300000))"
   ]
  },
  {
   "cell_type": "code",
   "execution_count": 12,
   "metadata": {},
   "outputs": [
    {
     "name": "stdout",
     "output_type": "stream",
     "text": [
      " Destino: Moon \n",
      " tiempo de viaje: 76 minutos \n",
      " Total de combustible: 500000\n"
     ]
    }
   ],
   "source": [
    "# Escribe tu nueva función de reporte considerando lo anterior\n",
    "def reporte_mision(destino, *minutos, **reservas_combustible):\n",
    "    return f' Destino: {destino} \\n tiempo de viaje: {sum(minutos)} minutos \\n Total de combustible: {sum(reservas_combustible.values())}'\n",
    "\n",
    "print(reporte_mision(\"Moon\", 10, 15, 51, main=300000, external=200000))"
   ]
  },
  {
   "cell_type": "code",
   "execution_count": 18,
   "metadata": {},
   "outputs": [
    {
     "name": "stdout",
     "output_type": "stream",
     "text": [
      " Destino: Moon \n",
      " tiempo de viaje: 76 minutos \n",
      " Total de combustible: 500000 \n",
      " main tanque tiene 300000 litros \n",
      " external tanque tiene 200000 litros\n"
     ]
    }
   ],
   "source": [
    "# Escribe tu nueva función\n",
    "def reporte_mision(destino, *minutos, **reservas_combustible):\n",
    "    reporte = f' Destino: {destino} \\n tiempo de viaje: {sum(minutos)} minutos \\n Total de combustible: {sum(reservas_combustible.values())}'\n",
    "\n",
    "    for nombre, combustible in reservas_combustible.items():\n",
    "        reporte += f' \\n {nombre} tanque tiene {combustible} litros'\n",
    "    \n",
    "    return reporte\n",
    "\n",
    "print(reporte_mision(\"Moon\", 10, 15, 51, main=300000, external=200000))"
   ]
  }
 ],
 "metadata": {
  "interpreter": {
   "hash": "04c87017e243054060bd2d25a9ab7059e6a522425615b2db36d21915550577ae"
  },
  "kernelspec": {
   "display_name": "Python 3.9.6 64-bit",
   "language": "python",
   "name": "python3"
  },
  "language_info": {
   "codemirror_mode": {
    "name": "ipython",
    "version": 3
   },
   "file_extension": ".py",
   "mimetype": "text/x-python",
   "name": "python",
   "nbconvert_exporter": "python",
   "pygments_lexer": "ipython3",
   "version": "3.9.6"
  },
  "orig_nbformat": 4
 },
 "nbformat": 4,
 "nbformat_minor": 2
}
