{
 "cells": [
  {
   "cell_type": "markdown",
   "metadata": {},
   "source": [
    "## Ejercicio1 - Utilizar operadores aritméticos"
   ]
  },
  {
   "cell_type": "code",
   "execution_count": 1,
   "metadata": {},
   "outputs": [],
   "source": [
    "# Crear variables para almacenar las dos distancias\n",
    "# ¡Asegúrate de quitar las comas!\n",
    "\n",
    "earth = 149597870\n",
    "jupiter = 778547200"
   ]
  },
  {
   "cell_type": "code",
   "execution_count": 2,
   "metadata": {},
   "outputs": [
    {
     "name": "stdout",
     "output_type": "stream",
     "text": [
      "Distance between jupiter and earth is: 628949330 km\n"
     ]
    }
   ],
   "source": [
    "# Calcular la distancia entre planetas\n",
    "\n",
    "distance = jupiter - earth\n",
    "print(\"Distance between jupiter and earth is: \" + str(distance) + \" km\")"
   ]
  },
  {
   "cell_type": "markdown",
   "metadata": {},
   "source": [
    "## Ejercicio 2: convierte cadenas en números y usa valores absolutos"
   ]
  },
  {
   "cell_type": "code",
   "execution_count": 3,
   "metadata": {},
   "outputs": [],
   "source": [
    "# Almacenar las entradas del usuario\n",
    "factor_millas = 0.621\n",
    "dis_1 = int(input(\"Cual es la distancia al sol del planeta 1? \"))\n",
    "dis_2 = int(input(\"Cual es la distancia al sol del planeta 2? \"))"
   ]
  },
  {
   "cell_type": "code",
   "execution_count": 4,
   "metadata": {},
   "outputs": [
    {
     "name": "stdout",
     "output_type": "stream",
     "text": [
      "1 km\n",
      "0.621 mi\n"
     ]
    }
   ],
   "source": [
    "# Realizar el cálculo y determinar el valor absoluto\n",
    "# Convertir de KM a Millas\n",
    "\n",
    "dis_km = dis_2 - dis_1\n",
    "print(str(dis_km) + \" km\")\n",
    "\n",
    "dis_mi = dis_km * factor_millas\n",
    "print(str(dis_mi) + \" mi\")"
   ]
  }
 ],
 "metadata": {
  "interpreter": {
   "hash": "04c87017e243054060bd2d25a9ab7059e6a522425615b2db36d21915550577ae"
  },
  "kernelspec": {
   "display_name": "Python 3.9.6 64-bit",
   "language": "python",
   "name": "python3"
  },
  "language_info": {
   "codemirror_mode": {
    "name": "ipython",
    "version": 3
   },
   "file_extension": ".py",
   "mimetype": "text/x-python",
   "name": "python",
   "nbconvert_exporter": "python",
   "pygments_lexer": "ipython3",
   "version": "3.9.6"
  },
  "orig_nbformat": 4
 },
 "nbformat": 4,
 "nbformat_minor": 2
}
